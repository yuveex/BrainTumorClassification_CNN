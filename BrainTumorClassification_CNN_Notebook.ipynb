{
 "cells": [
  {
   "cell_type": "code",
   "execution_count": 1,
   "id": "32bc66aa",
   "metadata": {},
   "outputs": [],
   "source": [
    "import pandas as pd\n",
    "import os\n",
    "import cv2\n",
    "import tensorflow as tf\n",
    "from keras.preprocessing.image import ImageDataGenerator\n",
    "from keras.models import Sequential, Model, load_model\n",
    "from keras.layers import Dense, Flatten, Conv2D, MaxPool2D, Dropout, BatchNormalization, GlobalMaxPooling2D, GlobalAveragePooling2D\n",
    "import numpy as np\n",
    "import pandas as pd\n",
    "from sklearn.model_selection import KFold\n",
    "import matplotlib.pyplot as plt\n",
    "from keras.applications.vgg16 import VGG16\n",
    "import keras\n",
    "import tensorflow_addons as tfa\n",
    "from sklearn.metrics import classification_report\n",
    "from sklearn.metrics import accuracy_score"
   ]
  },
  {
   "cell_type": "markdown",
   "id": "23636a99",
   "metadata": {},
   "source": [
    "# Dataset\n",
    "Brain Tumor Classification\n",
    "Class:\n",
    "1. Glioma Tumor = 901 Image\n",
    "2. Meningioma Tumor = 913 Image\n",
    "3. Normal = 438 Image\n",
    "4. Pituitary Tumor = 844 Image\n",
    "\n",
    "Image size = 256 x 256\n",
    "\n",
    "https://www.kaggle.com/datasets/thomasdubail/brain-tumors-256x256"
   ]
  },
  {
   "cell_type": "code",
   "execution_count": null,
   "id": "ee049391",
   "metadata": {},
   "outputs": [],
   "source": [
    "import random\n",
    "import shutil\n",
    "\n",
    "# Change path value according to your dataset path\n",
    "dataset_path = r\"[Insert dataset path here]\"\n",
    "train_path = r\"[Insert desired training data path here]\"\n",
    "test_path = r\"[Insert desired testing data path here]\""
   ]
  },
  {
   "cell_type": "markdown",
   "id": "5ca0aad4",
   "metadata": {},
   "source": [
    "# Creating Directory"
   ]
  },
  {
   "cell_type": "code",
   "execution_count": null,
   "id": "0724a57a",
   "metadata": {},
   "outputs": [],
   "source": [
    "\n",
    "os.makedirs(train_path, exist_ok=True)\n",
    "os.makedirs(test_path, exist_ok=True)\n",
    "\n",
    "train_ratio = 0.8\n",
    "\n",
    "for class_folder in os.listdir(dataset_path):\n",
    "    class_path = os.path.join(dataset_path, class_folder)\n",
    "    images = os.listdir(class_path)\n",
    "    random.shuffle(images)\n",
    "\n",
    "    # Calculate the split index\n",
    "    split_index = int(train_ratio * len(images))\n",
    "\n",
    "    # Split the images into training and testing sets\n",
    "    train_images = images[:split_index]\n",
    "    test_images = images[split_index:]\n",
    "\n",
    "    # Create class folders in the training and testing directories\n",
    "    train_class_path = os.path.join(train_path, class_folder)\n",
    "    test_class_path = os.path.join(test_path, class_folder)\n",
    "    os.makedirs(train_class_path, exist_ok=True)\n",
    "    os.makedirs(test_class_path, exist_ok=True)\n",
    "\n",
    "    # Move images to the respective class folders in training and testing\n",
    "    for image in train_images:\n",
    "        src = os.path.join(class_path, image)\n",
    "        dest = os.path.join(train_class_path, image)\n",
    "        shutil.copy(src, dest)\n",
    "\n",
    "    for image in test_images:\n",
    "        src = os.path.join(class_path, image)\n",
    "        dest = os.path.join(test_class_path, image)\n",
    "        shutil.copy(src, dest)"
   ]
  },
  {
   "cell_type": "code",
   "execution_count": 4,
   "id": "d9209aec",
   "metadata": {},
   "outputs": [],
   "source": [
    "main_datagen=ImageDataGenerator(rescale=1./255., validation_split = 0.2)\n",
    "test_datagen=ImageDataGenerator(rescale=1./255.)"
   ]
  },
  {
   "cell_type": "code",
   "execution_count": 5,
   "id": "1dc473ba",
   "metadata": {},
   "outputs": [
    {
     "name": "stdout",
     "output_type": "stream",
     "text": [
      "Found 1980 images belonging to 4 classes.\n",
      "Found 495 images belonging to 4 classes.\n",
      "Found 621 images belonging to 4 classes.\n"
     ]
    }
   ],
   "source": [
    "train_generator = main_datagen.flow_from_directory(train_path, \n",
    "                                                    target_size=(224,224),\n",
    "                                                    subset='training')\n",
    "\n",
    "val_generator = main_datagen.flow_from_directory(train_path, \n",
    "                                                    target_size=(224,224),\n",
    "                                                    subset='validation')\n",
    "\n",
    "test_generator = test_datagen.flow_from_directory(test_path, \n",
    "                                                    target_size=(224,224))"
   ]
  },
  {
   "cell_type": "markdown",
   "id": "6aff7375",
   "metadata": {},
   "source": [
    "# Creating Model"
   ]
  },
  {
   "cell_type": "code",
   "execution_count": 6,
   "id": "16824c11",
   "metadata": {},
   "outputs": [],
   "source": [
    "model = Sequential([\n",
    "            Conv2D(64, (3,3), activation='relu', input_shape=(224,224,3)),\n",
    "            MaxPool2D((2,2), strides=(2,2)),\n",
    "            Conv2D(128, (3,3), activation='relu'),\n",
    "            MaxPool2D((2,2), strides=(2,2)),\n",
    "            Conv2D(256, (3,3), activation='relu'),\n",
    "            MaxPool2D((2,2), strides=(2,2)),\n",
    "            Conv2D(256, (3,3), activation='relu'),\n",
    "            MaxPool2D((2,2), strides=(2,2)),\n",
    "            Conv2D(512, (3,3), activation='relu'),\n",
    "            MaxPool2D((2,2), strides=(2,2)),\n",
    "            Dropout(0.5),\n",
    "            Conv2D(512, (3,3), activation='relu'),\n",
    "            Dropout(0.5),\n",
    "            GlobalAveragePooling2D(),\n",
    "            Flatten(),\n",
    "            Dense(1024, activation='relu'),\n",
    "            Dropout(0.5),\n",
    "            Dense(512, activation='relu'),\n",
    "            Dropout(0.5),\n",
    "            Dense(4, activation='softmax')\n",
    "    ])"
   ]
  },
  {
   "cell_type": "code",
   "execution_count": 7,
   "id": "100e6335",
   "metadata": {},
   "outputs": [
    {
     "name": "stdout",
     "output_type": "stream",
     "text": [
      "Model: \"sequential\"\n",
      "_________________________________________________________________\n",
      " Layer (type)                Output Shape              Param #   \n",
      "=================================================================\n",
      " conv2d (Conv2D)             (None, 222, 222, 64)      1792      \n",
      "                                                                 \n",
      " max_pooling2d (MaxPooling2D  (None, 111, 111, 64)     0         \n",
      " )                                                               \n",
      "                                                                 \n",
      " conv2d_1 (Conv2D)           (None, 109, 109, 128)     73856     \n",
      "                                                                 \n",
      " max_pooling2d_1 (MaxPooling  (None, 54, 54, 128)      0         \n",
      " 2D)                                                             \n",
      "                                                                 \n",
      " conv2d_2 (Conv2D)           (None, 52, 52, 256)       295168    \n",
      "                                                                 \n",
      " max_pooling2d_2 (MaxPooling  (None, 26, 26, 256)      0         \n",
      " 2D)                                                             \n",
      "                                                                 \n",
      " conv2d_3 (Conv2D)           (None, 24, 24, 256)       590080    \n",
      "                                                                 \n",
      " max_pooling2d_3 (MaxPooling  (None, 12, 12, 256)      0         \n",
      " 2D)                                                             \n",
      "                                                                 \n",
      " conv2d_4 (Conv2D)           (None, 10, 10, 512)       1180160   \n",
      "                                                                 \n",
      " max_pooling2d_4 (MaxPooling  (None, 5, 5, 512)        0         \n",
      " 2D)                                                             \n",
      "                                                                 \n",
      " dropout (Dropout)           (None, 5, 5, 512)         0         \n",
      "                                                                 \n",
      " conv2d_5 (Conv2D)           (None, 3, 3, 512)         2359808   \n",
      "                                                                 \n",
      " dropout_1 (Dropout)         (None, 3, 3, 512)         0         \n",
      "                                                                 \n",
      " global_average_pooling2d (G  (None, 512)              0         \n",
      " lobalAveragePooling2D)                                          \n",
      "                                                                 \n",
      " flatten (Flatten)           (None, 512)               0         \n",
      "                                                                 \n",
      " dense (Dense)               (None, 1024)              525312    \n",
      "                                                                 \n",
      " dropout_2 (Dropout)         (None, 1024)              0         \n",
      "                                                                 \n",
      " dense_1 (Dense)             (None, 512)               524800    \n",
      "                                                                 \n",
      " dropout_3 (Dropout)         (None, 512)               0         \n",
      "                                                                 \n",
      " dense_2 (Dense)             (None, 4)                 2052      \n",
      "                                                                 \n",
      "=================================================================\n",
      "Total params: 5,553,028\n",
      "Trainable params: 5,553,028\n",
      "Non-trainable params: 0\n",
      "_________________________________________________________________\n"
     ]
    }
   ],
   "source": [
    "model.summary()"
   ]
  },
  {
   "cell_type": "code",
   "execution_count": 8,
   "id": "60b71a51",
   "metadata": {},
   "outputs": [
    {
     "name": "stdout",
     "output_type": "stream",
     "text": [
      "Epoch 1/100\n",
      "62/62 [==============================] - 24s 281ms/step - loss: 1.3640 - accuracy: 0.2813 - precision: 0.0000e+00 - recall: 0.0000e+00 - f1_score: 0.0000e+00 - val_loss: 1.3503 - val_accuracy: 0.2909 - val_precision: 0.0000e+00 - val_recall: 0.0000e+00 - val_f1_score: 0.0000e+00 - lr: 0.0010\n",
      "Epoch 2/100\n",
      "62/62 [==============================] - 12s 188ms/step - loss: 1.3488 - accuracy: 0.2919 - precision: 0.0000e+00 - recall: 0.0000e+00 - f1_score: 0.0000e+00 - val_loss: 1.2994 - val_accuracy: 0.4667 - val_precision: 0.0000e+00 - val_recall: 0.0000e+00 - val_f1_score: 0.0000e+00 - lr: 0.0010\n",
      "Epoch 3/100\n",
      "62/62 [==============================] - 12s 189ms/step - loss: 1.2919 - accuracy: 0.3616 - precision: 0.3960 - recall: 0.0202 - f1_score: 0.0526 - val_loss: 1.2432 - val_accuracy: 0.4465 - val_precision: 0.4000 - val_recall: 0.0040 - val_f1_score: 0.0133 - lr: 0.0010\n",
      "Epoch 4/100\n",
      "62/62 [==============================] - 12s 190ms/step - loss: 1.2318 - accuracy: 0.3778 - precision: 0.4892 - recall: 0.0460 - f1_score: 0.0953 - val_loss: 1.2000 - val_accuracy: 0.3212 - val_precision: 0.2667 - val_recall: 0.0404 - val_f1_score: 0.0690 - lr: 0.0010\n",
      "Epoch 5/100\n",
      "62/62 [==============================] - 12s 192ms/step - loss: 1.1756 - accuracy: 0.4268 - precision: 0.5000 - recall: 0.0717 - f1_score: 0.1447 - val_loss: 1.0408 - val_accuracy: 0.4606 - val_precision: 0.6203 - val_recall: 0.1980 - val_f1_score: 0.2497 - lr: 0.0010\n",
      "Epoch 6/100\n",
      "62/62 [==============================] - 12s 192ms/step - loss: 1.0849 - accuracy: 0.4985 - precision: 0.5977 - recall: 0.2379 - f1_score: 0.3507 - val_loss: 0.9769 - val_accuracy: 0.5939 - val_precision: 0.7490 - val_recall: 0.3677 - val_f1_score: 0.4401 - lr: 0.0010\n",
      "Epoch 7/100\n",
      "62/62 [==============================] - 12s 194ms/step - loss: 0.9290 - accuracy: 0.6111 - precision: 0.6839 - recall: 0.4667 - f1_score: 0.5558 - val_loss: 0.9069 - val_accuracy: 0.6606 - val_precision: 0.7071 - val_recall: 0.4000 - val_f1_score: 0.4962 - lr: 0.0010\n",
      "Epoch 8/100\n",
      "62/62 [==============================] - 12s 195ms/step - loss: 0.8771 - accuracy: 0.6328 - precision: 0.7070 - recall: 0.4924 - f1_score: 0.5729 - val_loss: 0.7610 - val_accuracy: 0.7071 - val_precision: 0.7671 - val_recall: 0.6121 - val_f1_score: 0.6500 - lr: 0.0010\n",
      "Epoch 9/100\n",
      "62/62 [==============================] - 12s 196ms/step - loss: 0.8118 - accuracy: 0.6747 - precision: 0.7242 - recall: 0.5636 - f1_score: 0.6354 - val_loss: 0.6973 - val_accuracy: 0.7010 - val_precision: 0.7488 - val_recall: 0.6505 - val_f1_score: 0.6942 - lr: 0.0010\n",
      "Epoch 10/100\n",
      "62/62 [==============================] - ETA: 0s - loss: 0.6725 - accuracy: 0.7343 - precision: 0.7733 - recall: 0.6717 - f1_score: 0.7254\n",
      "Epoch 10: ReduceLROnPlateau reducing learning rate to 0.0005000000237487257.\n",
      "62/62 [==============================] - 12s 196ms/step - loss: 0.6725 - accuracy: 0.7343 - precision: 0.7733 - recall: 0.6717 - f1_score: 0.7254 - val_loss: 0.7456 - val_accuracy: 0.7051 - val_precision: 0.7277 - val_recall: 0.6586 - val_f1_score: 0.6846 - lr: 0.0010\n",
      "Epoch 11/100\n",
      "62/62 [==============================] - 12s 197ms/step - loss: 0.6105 - accuracy: 0.7636 - precision: 0.8018 - recall: 0.7131 - f1_score: 0.7627 - val_loss: 0.6568 - val_accuracy: 0.7152 - val_precision: 0.7440 - val_recall: 0.6929 - val_f1_score: 0.7157 - lr: 5.0000e-04\n",
      "Epoch 12/100\n",
      "62/62 [==============================] - 12s 200ms/step - loss: 0.5464 - accuracy: 0.7965 - precision: 0.8264 - recall: 0.7551 - f1_score: 0.7967 - val_loss: 0.5881 - val_accuracy: 0.7717 - val_precision: 0.7890 - val_recall: 0.7556 - val_f1_score: 0.7643 - lr: 5.0000e-04\n",
      "Epoch 13/100\n",
      "62/62 [==============================] - 12s 200ms/step - loss: 0.5101 - accuracy: 0.8051 - precision: 0.8264 - recall: 0.7788 - f1_score: 0.8115 - val_loss: 0.5867 - val_accuracy: 0.7818 - val_precision: 0.8068 - val_recall: 0.7677 - val_f1_score: 0.7795 - lr: 5.0000e-04\n",
      "Epoch 14/100\n",
      "62/62 [==============================] - 12s 201ms/step - loss: 0.4631 - accuracy: 0.8197 - precision: 0.8423 - recall: 0.7960 - f1_score: 0.8239 - val_loss: 0.5528 - val_accuracy: 0.7818 - val_precision: 0.8026 - val_recall: 0.7475 - val_f1_score: 0.7651 - lr: 5.0000e-04\n",
      "Epoch 15/100\n",
      "62/62 [==============================] - ETA: 0s - loss: 0.4074 - accuracy: 0.8455 - precision: 0.8619 - recall: 0.8293 - f1_score: 0.8513\n",
      "Epoch 15: ReduceLROnPlateau reducing learning rate to 0.0002500000118743628.\n",
      "62/62 [==============================] - 12s 200ms/step - loss: 0.4074 - accuracy: 0.8455 - precision: 0.8619 - recall: 0.8293 - f1_score: 0.8513 - val_loss: 0.5991 - val_accuracy: 0.7657 - val_precision: 0.7953 - val_recall: 0.7535 - val_f1_score: 0.7655 - lr: 5.0000e-04\n",
      "Epoch 16/100\n",
      "62/62 [==============================] - ETA: 0s - loss: 0.3309 - accuracy: 0.8763 - precision: 0.8927 - recall: 0.8571 - f1_score: 0.8811\n",
      "Epoch 16: ReduceLROnPlateau reducing learning rate to 0.0001250000059371814.\n",
      "62/62 [==============================] - 12s 200ms/step - loss: 0.3309 - accuracy: 0.8763 - precision: 0.8927 - recall: 0.8571 - f1_score: 0.8811 - val_loss: 0.5780 - val_accuracy: 0.7798 - val_precision: 0.7835 - val_recall: 0.7677 - val_f1_score: 0.7741 - lr: 2.5000e-04\n",
      "Epoch 17/100\n",
      "62/62 [==============================] - 13s 203ms/step - loss: 0.2944 - accuracy: 0.8995 - precision: 0.9074 - recall: 0.8859 - f1_score: 0.9013 - val_loss: 0.5360 - val_accuracy: 0.8061 - val_precision: 0.8165 - val_recall: 0.7818 - val_f1_score: 0.7945 - lr: 1.2500e-04\n",
      "Epoch 18/100\n",
      "62/62 [==============================] - 13s 203ms/step - loss: 0.2723 - accuracy: 0.8985 - precision: 0.9104 - recall: 0.8924 - f1_score: 0.9055 - val_loss: 0.5348 - val_accuracy: 0.8121 - val_precision: 0.8225 - val_recall: 0.7960 - val_f1_score: 0.8052 - lr: 1.2500e-04\n",
      "Epoch 19/100\n",
      "62/62 [==============================] - ETA: 0s - loss: 0.2499 - accuracy: 0.9051 - precision: 0.9146 - recall: 0.8980 - f1_score: 0.9116\n",
      "Epoch 19: ReduceLROnPlateau reducing learning rate to 6.25000029685907e-05.\n",
      "62/62 [==============================] - 13s 203ms/step - loss: 0.2499 - accuracy: 0.9051 - precision: 0.9146 - recall: 0.8980 - f1_score: 0.9116 - val_loss: 0.5436 - val_accuracy: 0.8202 - val_precision: 0.8281 - val_recall: 0.7980 - val_f1_score: 0.8102 - lr: 1.2500e-04\n",
      "Epoch 20/100\n",
      "62/62 [==============================] - ETA: 0s - loss: 0.2595 - accuracy: 0.9025 - precision: 0.9139 - recall: 0.8949 - f1_score: 0.9091\n",
      "Epoch 20: ReduceLROnPlateau reducing learning rate to 3.125000148429535e-05.\n",
      "62/62 [==============================] - 13s 204ms/step - loss: 0.2595 - accuracy: 0.9025 - precision: 0.9139 - recall: 0.8949 - f1_score: 0.9091 - val_loss: 0.5581 - val_accuracy: 0.8121 - val_precision: 0.8260 - val_recall: 0.7960 - val_f1_score: 0.8047 - lr: 6.2500e-05\n",
      "Epoch 21/100\n",
      "62/62 [==============================] - 13s 204ms/step - loss: 0.2256 - accuracy: 0.9167 - precision: 0.9233 - recall: 0.9061 - f1_score: 0.9196 - val_loss: 0.5319 - val_accuracy: 0.8162 - val_precision: 0.8281 - val_recall: 0.7980 - val_f1_score: 0.8103 - lr: 3.1250e-05\n",
      "Epoch 22/100\n",
      "62/62 [==============================] - ETA: 0s - loss: 0.2256 - accuracy: 0.9192 - precision: 0.9288 - recall: 0.9096 - f1_score: 0.9244\n",
      "Epoch 22: ReduceLROnPlateau reducing learning rate to 1.5625000742147677e-05.\n",
      "62/62 [==============================] - 13s 205ms/step - loss: 0.2256 - accuracy: 0.9192 - precision: 0.9288 - recall: 0.9096 - f1_score: 0.9244 - val_loss: 0.5347 - val_accuracy: 0.8283 - val_precision: 0.8389 - val_recall: 0.8101 - val_f1_score: 0.8213 - lr: 3.1250e-05\n",
      "Epoch 23/100\n",
      "62/62 [==============================] - ETA: 0s - loss: 0.2181 - accuracy: 0.9242 - precision: 0.9335 - recall: 0.9146 - f1_score: 0.9275\n",
      "Epoch 23: ReduceLROnPlateau reducing learning rate to 7.812500371073838e-06.\n",
      "62/62 [==============================] - 13s 205ms/step - loss: 0.2181 - accuracy: 0.9242 - precision: 0.9335 - recall: 0.9146 - f1_score: 0.9275 - val_loss: 0.5389 - val_accuracy: 0.8121 - val_precision: 0.8246 - val_recall: 0.7980 - val_f1_score: 0.8082 - lr: 1.5625e-05\n",
      "Epoch 24/100\n"
     ]
    },
    {
     "name": "stdout",
     "output_type": "stream",
     "text": [
      "62/62 [==============================] - ETA: 0s - loss: 0.2164 - accuracy: 0.9242 - precision: 0.9280 - recall: 0.9182 - f1_score: 0.9286Restoring model weights from the end of the best epoch: 21.\n",
      "\n",
      "Epoch 24: ReduceLROnPlateau reducing learning rate to 3.906250185536919e-06.\n",
      "62/62 [==============================] - 13s 206ms/step - loss: 0.2164 - accuracy: 0.9242 - precision: 0.9280 - recall: 0.9182 - f1_score: 0.9286 - val_loss: 0.5406 - val_accuracy: 0.8242 - val_precision: 0.8407 - val_recall: 0.8101 - val_f1_score: 0.8228 - lr: 7.8125e-06\n",
      "Epoch 24: early stopping\n",
      "20/20 [==============================] - 2s 80ms/step - loss: 0.3740 - accuracy: 0.8599 - precision: 0.8713 - recall: 0.8502 - f1_score: 0.8669\n",
      "accuracy: 85.99033951759338\n",
      "precision: 87.12871074676514\n",
      "recall: 85.02415418624878\n",
      "f1_score: 86.69407367706299\n"
     ]
    },
    {
     "data": {
      "image/png": "[encoded data removed]",
      "text/plain": [
       "<Figure size 1200x500 with 2 Axes>"
      ]
     },
     "metadata": {},
     "output_type": "display_data"
    }
   ],
   "source": [
    "model.compile(optimizer='adam',\n",
    "                  loss='categorical_crossentropy',\n",
    "                  metrics = ['accuracy', keras.metrics.Precision(), keras.metrics.Recall(), tfa.metrics.F1Score(num_classes=4, average='macro', threshold=0.5)])\n",
    "\n",
    "es=tf.keras.callbacks.EarlyStopping( monitor=\"val_loss\", patience=3,\n",
    "                                     verbose=1,  restore_best_weights=True)\n",
    "rlronp=tf.keras.callbacks.ReduceLROnPlateau( monitor=\"val_loss\", factor=0.5, patience=1,\n",
    "                                             verbose=1)\n",
    "callbacks=[es, rlronp]\n",
    "    \n",
    "EPOCHS = 100\n",
    "model_history = model.fit(train_generator, epochs=EPOCHS, validation_data = val_generator, callbacks=callbacks, verbose=1)\n",
    "scores = model.evaluate(test_generator)\n",
    "print(f\"{model.metrics_names[1]}: {scores[1] * 100}\")\n",
    "print(f\"{model.metrics_names[2]}: {scores[2] * 100}\")\n",
    "print(f\"{model.metrics_names[3]}: {scores[3] * 100}\")\n",
    "print(f\"{model.metrics_names[4]}: {scores[4] * 100}\")\n",
    "\n",
    "plt.figure(figsize=(12, 5))\n",
    "\n",
    "plt.subplot(1, 2, 1)\n",
    "plt.plot(model_history.history['loss'], label='loss')\n",
    "plt.plot(model_history.history['val_loss'], label = 'val_loss')\n",
    "plt.xlabel('Epoch')\n",
    "plt.ylabel('Loss')\n",
    "plt.legend(['Train', 'Validation'], loc='upper left')\n",
    "\n",
    "plt.subplot(1, 2, 2)\n",
    "plt.plot(model_history.history['accuracy'], label='accuracy')\n",
    "plt.plot(model_history.history['val_accuracy'], label = 'val_accuracy')\n",
    "plt.xlabel('Epoch')\n",
    "plt.ylabel('Accuracy')\n",
    "plt.legend(['Train', 'Validation'], loc='upper left')\n",
    "plt.show()"
   ]
  },
  {
   "cell_type": "code",
   "execution_count": null,
   "id": "65c650e1",
   "metadata": {},
   "outputs": [],
   "source": [
    "model.save(r\"C:\\Insert\\Your\\Model\\Save\\Path\\Here\\modelName.h5\")"
   ]
  }
 ],
 "metadata": {
  "kernelspec": {
   "display_name": "tensorGPU",
   "language": "python",
   "name": "tensorgpu"
  },
  "language_info": {
   "codemirror_mode": {
    "name": "ipython",
    "version": 3
   },
   "file_extension": ".py",
   "mimetype": "text/x-python",
   "name": "python",
   "nbconvert_exporter": "python",
   "pygments_lexer": "ipython3",
   "version": "3.7.16"
  }
 },
 "nbformat": 4,
 "nbformat_minor": 5
}
